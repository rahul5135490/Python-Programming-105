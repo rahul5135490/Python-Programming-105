{
 "cells": [
  {
   "cell_type": "code",
   "execution_count": 1,
   "id": "a0bbd843-edfa-4d75-976d-bbcaa36dd44b",
   "metadata": {},
   "outputs": [
    {
     "name": "stdout",
     "output_type": "stream",
     "text": [
      "1\n",
      "2\n",
      "3\n"
     ]
    }
   ],
   "source": [
    "# A Simple Python program to demonstrate working\n",
    "# of yield\n",
    " \n",
    "# A generator function that yields 1 for the first time,\n",
    "# 2 second time and 3 third time\n",
    " \n",
    " \n",
    "def simpleGeneratorFun():\n",
    "    yield 1\n",
    "    yield 2\n",
    "    yield 3\n",
    " \n",
    " \n",
    "# Driver code to check above generator function\n",
    "for value in simpleGeneratorFun():\n",
    "    print(value)"
   ]
  },
  {
   "cell_type": "code",
   "execution_count": 2,
   "id": "3502d27e-29a3-4b8e-9179-c46352e683c2",
   "metadata": {},
   "outputs": [
    {
     "name": "stdout",
     "output_type": "stream",
     "text": [
      "geeksforgeeks\n",
      "20\n"
     ]
    }
   ],
   "source": [
    "# A Python program to return multiple\n",
    "# values from a method using class\n",
    "class Test:\n",
    "    def __init__(self):\n",
    "        self.str = \"geeksforgeeks\"\n",
    "        self.x = 20\n",
    " \n",
    "# This function returns an object of Test\n",
    "def fun():\n",
    "    return Test()\n",
    "     \n",
    "# Driver code to test above method\n",
    "t = fun()\n",
    "print(t.str)\n",
    "print(t.x)"
   ]
  },
  {
   "cell_type": "code",
   "execution_count": 3,
   "id": "ecc28a0c-d822-4fc2-9b6f-7c545fa41988",
   "metadata": {},
   "outputs": [
    {
     "name": "stdout",
     "output_type": "stream",
     "text": [
      "3145\n"
     ]
    }
   ],
   "source": [
    "from functools import partial\n",
    "  \n",
    "# A normal function\n",
    "def f(a, b, c, x):\n",
    "    return 1000*a + 100*b + 10*c + x\n",
    "  \n",
    "# A partial function that calls f with\n",
    "# a as 3, b as 1 and c as 4.\n",
    "g = partial(f, 3, 1, 4)\n",
    "  \n",
    "# Calling g()\n",
    "print(g(5))"
   ]
  },
  {
   "cell_type": "code",
   "execution_count": 4,
   "id": "32608903-78a1-40f5-8b90-44154c843dbd",
   "metadata": {},
   "outputs": [
    {
     "name": "stdout",
     "output_type": "stream",
     "text": [
      "312\n"
     ]
    }
   ],
   "source": [
    "from functools import *\n",
    "  \n",
    "# A normal function\n",
    "def add(a, b, c):\n",
    "    return 100 * a + 10 * b + c\n",
    "  \n",
    "# A partial function with b = 1 and c = 2\n",
    "add_part = partial(add, c = 2, b = 1)\n",
    "  \n",
    "# Calling partial function\n",
    "print(add_part(3))"
   ]
  },
  {
   "cell_type": "code",
   "execution_count": 5,
   "id": "c10d494c-4b59-4149-8890-9fee44f7f943",
   "metadata": {},
   "outputs": [
    {
     "name": "stdout",
     "output_type": "stream",
     "text": [
      "1\n",
      "4\n",
      "9\n",
      "16\n",
      "25\n",
      "36\n",
      "49\n",
      "64\n",
      "81\n",
      "100\n"
     ]
    }
   ],
   "source": [
    "# A Python program to generate squares from 1\n",
    "# to 100 using yield and therefore generator\n",
    " \n",
    "# An infinite generator function that prints\n",
    "# next square number. It starts with 1\n",
    " \n",
    " \n",
    "def nextSquare():\n",
    "    i = 1\n",
    " \n",
    "    # An Infinite loop to generate squares\n",
    "    while True:\n",
    "        yield i*i\n",
    "        i += 1  # Next execution resumes\n",
    "        # from this point\n",
    " \n",
    " \n",
    "# Driver code to test above generator\n",
    "# function\n",
    "for num in nextSquare():\n",
    "    if num > 100:\n",
    "        break\n",
    "    print(num)"
   ]
  },
  {
   "cell_type": "code",
   "execution_count": 6,
   "id": "de59103e-15c9-4d38-a0c8-2b8199a55432",
   "metadata": {},
   "outputs": [
    {
     "name": "stdout",
     "output_type": "stream",
     "text": [
      "['geeksforgeeks', 20]\n"
     ]
    }
   ],
   "source": [
    "# A Python program to return multiple\n",
    "# values from a method using list\n",
    " \n",
    "# This function returns a list\n",
    "def fun():\n",
    "    str = \"geeksforgeeks\"\n",
    "    x = 20\n",
    "    return [str, x];\n",
    " \n",
    "# Driver code to test above method\n",
    "list = fun()\n",
    "print(list)"
   ]
  },
  {
   "cell_type": "code",
   "execution_count": 7,
   "id": "d23fa97e-eabc-4f24-8965-e8eee1e803ce",
   "metadata": {},
   "outputs": [
    {
     "name": "stdout",
     "output_type": "stream",
     "text": [
      "{'str': 'GeeksforGeeks', 'x': 20}\n"
     ]
    }
   ],
   "source": [
    "# A Python program to return multiple\n",
    "# values from a method using dictionary\n",
    " \n",
    "# This function returns a dictionary\n",
    "def fun():\n",
    "    d = dict();\n",
    "    d['str'] = \"GeeksforGeeks\"\n",
    "    d['x'] = 20\n",
    "    return d\n",
    " \n",
    "# Driver code to test above method\n",
    "d = fun()\n",
    "print(d)"
   ]
  },
  {
   "cell_type": "code",
   "execution_count": 8,
   "id": "561b371b-e626-413c-893c-ca940b7a3df5",
   "metadata": {},
   "outputs": [
    {
     "name": "stdout",
     "output_type": "stream",
     "text": [
      "6\n",
      "9\n",
      "5\n",
      "10\n"
     ]
    }
   ],
   "source": [
    "# Python program to illustrate\n",
    "# closures\n",
    "import logging\n",
    "logging.basicConfig(filename='example.log',\n",
    "                    level=logging.INFO)\n",
    " \n",
    " \n",
    "def logger(func):\n",
    "    def log_func(*args):\n",
    "        logging.info(\n",
    "            'Running \"{}\" with arguments {}'.format(func.__name__,\n",
    "                                                    args))\n",
    "        print(func(*args))\n",
    "         \n",
    "    # Necessary for closure to\n",
    "    # work (returning WITHOUT parenthesis)\n",
    "    return log_func            \n",
    " \n",
    "def add(x, y):\n",
    "    return x+y\n",
    " \n",
    "def sub(x, y):\n",
    "    return x-y\n",
    " \n",
    "add_logger = logger(add)\n",
    "sub_logger = logger(sub)\n",
    " \n",
    "add_logger(3, 3)\n",
    "add_logger(4, 5)\n",
    " \n",
    "sub_logger(10, 5)\n",
    "sub_logger(20, 10)\n"
   ]
  },
  {
   "cell_type": "code",
   "execution_count": 9,
   "id": "94bb9184-d27c-4cde-9f12-3f4d764611ba",
   "metadata": {},
   "outputs": [
    {
     "name": "stdout",
     "output_type": "stream",
     "text": [
      "Welcome to GeeksforGeeks\n"
     ]
    }
   ],
   "source": [
    "# A Python program to demonstrate that a function\n",
    "# can be defined inside another function and a\n",
    "# function can be passed as parameter.\n",
    "  \n",
    "# Adds a welcome message to the string\n",
    "def messageWithWelcome(str):\n",
    "  \n",
    "    # Nested function\n",
    "    def addWelcome():\n",
    "        return \"Welcome to \"\n",
    "  \n",
    "    # Return concatenation of addWelcome()\n",
    "    # and str.\n",
    "    return  addWelcome() + str\n",
    "  \n",
    "# To get site name to which welcome is added\n",
    "def site(site_name):\n",
    "    return site_name\n",
    "  \n",
    "print (messageWithWelcome(site(\"GeeksforGeeks\")))"
   ]
  },
  {
   "cell_type": "code",
   "execution_count": 10,
   "id": "01d90208-df78-4986-b368-25f662e3bfa4",
   "metadata": {},
   "outputs": [
    {
     "name": "stdout",
     "output_type": "stream",
     "text": [
      "Rodger is a mammal\n",
      "Tommy is also a mammal\n",
      "My name is Rodger\n",
      "My name is Tommy\n"
     ]
    }
   ],
   "source": [
    "class Dog:\n",
    " \n",
    "    # class attribute\n",
    "    attr1 = \"mammal\"\n",
    " \n",
    "    # Instance attribute\n",
    "    def __init__(self, name):\n",
    "        self.name = name\n",
    " \n",
    "# Driver code\n",
    "# Object instantiation\n",
    "Rodger = Dog(\"Rodger\")\n",
    "Tommy = Dog(\"Tommy\")\n",
    " \n",
    "# Accessing class attributes\n",
    "print(\"Rodger is a {}\".format(Rodger.__class__.attr1))\n",
    "print(\"Tommy is also a {}\".format(Tommy.__class__.attr1))\n",
    " \n",
    "# Accessing instance attributes\n",
    "print(\"My name is {}\".format(Rodger.name))\n",
    "print(\"My name is {}\".format(Tommy.name))\n"
   ]
  },
  {
   "cell_type": "code",
   "execution_count": 11,
   "id": "f711cf56-b7dc-4909-b15d-5cee7ba86b05",
   "metadata": {},
   "outputs": [
    {
     "name": "stdout",
     "output_type": "stream",
     "text": [
      "GeekforGeeks\n"
     ]
    }
   ],
   "source": [
    "class GeekforGeeks:\n",
    " \n",
    "    # default constructor\n",
    "    def __init__(self):\n",
    "        self.geek = \"GeekforGeeks\"\n",
    " \n",
    "    # a method for printing data members\n",
    "    def print_Geek(self):\n",
    "        print(self.geek)\n",
    " \n",
    " \n",
    "# creating object of the class\n",
    "obj = GeekforGeeks()\n",
    " \n",
    "# calling the instance method using the object obj\n",
    "obj.print_Geek()"
   ]
  },
  {
   "cell_type": "code",
   "execution_count": 12,
   "id": "45b0bbd0-2a89-496f-b9d0-f8fee30b0b57",
   "metadata": {},
   "outputs": [
    {
     "name": "stdout",
     "output_type": "stream",
     "text": [
      "First number = 1000\n",
      "Second number = 2000\n",
      "Addition of two numbers = 3000\n",
      "First number = 10\n",
      "Second number = 20\n",
      "Addition of two numbers = 30\n"
     ]
    }
   ],
   "source": [
    "class Addition:\n",
    "    first = 0\n",
    "    second = 0\n",
    "    answer = 0\n",
    " \n",
    "    # parameterized constructor\n",
    "    def __init__(self, f, s):\n",
    "        self.first = f\n",
    "        self.second = s\n",
    " \n",
    "    def display(self):\n",
    "        print(\"First number = \" + str(self.first))\n",
    "        print(\"Second number = \" + str(self.second))\n",
    "        print(\"Addition of two numbers = \" + str(self.answer))\n",
    " \n",
    "    def calculate(self):\n",
    "        self.answer = self.first + self.second\n",
    " \n",
    " \n",
    "# creating object of the class\n",
    "# this will invoke parameterized constructor\n",
    "obj1 = Addition(1000, 2000)\n",
    " \n",
    "# creating second object of same class\n",
    "obj2 = Addition(10, 20)\n",
    " \n",
    "# perform Addition on obj1\n",
    "obj1.calculate()\n",
    " \n",
    "# perform Addition on obj2\n",
    "obj2.calculate()\n",
    " \n",
    "# display result of obj1\n",
    "obj1.display()\n",
    " \n",
    "# display result of obj2\n",
    "obj2.display()"
   ]
  },
  {
   "cell_type": "code",
   "execution_count": 13,
   "id": "ffdfeb08-2bdd-4b3c-9680-74001f99cd18",
   "metadata": {},
   "outputs": [
    {
     "name": "stdout",
     "output_type": "stream",
     "text": [
      "Counter({'B': 5, 'A': 3, 'C': 2})\n",
      "Counter({'B': 5, 'A': 3, 'C': 2})\n",
      "Counter({'B': 5, 'A': 3, 'C': 2})\n"
     ]
    }
   ],
   "source": [
    "# A Python program to show different ways to create\n",
    "# Counter\n",
    "from collections import Counter\n",
    "  \n",
    "# With sequence of items \n",
    "print(Counter(['B','B','A','B','C','A','B','B','A','C']))\n",
    "  \n",
    "# with dictionary\n",
    "print(Counter({'A':3, 'B':5, 'C':2}))\n",
    "  \n",
    "# with keyword arguments\n",
    "print(Counter(A=3, B=5, C=2))"
   ]
  },
  {
   "cell_type": "code",
   "execution_count": null,
   "id": "e3208847-ce60-48be-aa77-bc47e85bfcf2",
   "metadata": {},
   "outputs": [],
   "source": []
  },
  {
   "cell_type": "code",
   "execution_count": null,
   "id": "ba400479",
   "metadata": {},
   "outputs": [],
   "source": []
  },
  {
   "cell_type": "code",
   "execution_count": null,
   "id": "d28dded3",
   "metadata": {},
   "outputs": [],
   "source": []
  }
 ],
 "metadata": {
  "kernelspec": {
   "display_name": "Python 3 (ipykernel)",
   "language": "python",
   "name": "python3"
  },
  "language_info": {
   "codemirror_mode": {
    "name": "ipython",
    "version": 3
   },
   "file_extension": ".py",
   "mimetype": "text/x-python",
   "name": "python",
   "nbconvert_exporter": "python",
   "pygments_lexer": "ipython3",
   "version": "3.9.13"
  }
 },
 "nbformat": 4,
 "nbformat_minor": 5
}
